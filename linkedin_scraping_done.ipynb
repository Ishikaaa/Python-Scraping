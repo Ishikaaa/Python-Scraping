{
 "cells": [
  {
   "cell_type": "code",
   "execution_count": 3,
   "metadata": {},
   "outputs": [],
   "source": [
    "import http \n",
    "import urllib.request\n",
    "# requests modules helps to send all kind of HTTP request. \n",
    "import requests \n",
    "# BeautifulSoup in bs4 is used pasring HTML documents \n",
    "from selenium import webdriver \n",
    "from webdriver_manager.chrome import ChromeDriverManager\n",
    "import bs4 \n",
    "import time"
   ]
  },
  {
   "cell_type": "code",
   "execution_count": 6,
   "metadata": {},
   "outputs": [
    {
     "name": "stdout",
     "output_type": "stream",
     "text": [
      "Enter username: gargishika1998@gmail.com\n",
      "Enter password: l!nkeDin\n"
     ]
    }
   ],
   "source": [
    "driver= webdriver.Chrome()\n",
    "\n",
    "username= input(\"Enter username: \")\n",
    "password= input(\"Enter password: \")\n",
    "\n",
    "driver.get(\"https://www.linkedin.com/login?trk=guest_homepage-basic_nav-header-signin\")\n",
    "\n",
    "usernameElement= driver.find_element_by_id(\"username\") \n",
    "passwordElement= driver.find_element_by_id(\"password\") \n",
    "\n",
    "usernameElement.send_keys(username)      #send username value to username field\n",
    "passwordElement.send_keys(password)      #send password value to password field\n",
    "\n",
    "driver.find_element_by_xpath(\"//button[text()='Sign in']\").click()\n",
    "\n",
    "driver.execute_script('window.scrollTo(1, 500);')\n",
    "time.sleep(5)\n",
    "driver.execute_script('window.scrollTo(1, 3000);')\n",
    "driver.maximize_window()\n",
    "#feedAuthor= driver.find_elements_by_class_name('feed-shared-actor__title')\n",
    "feedsContent= driver.find_elements_by_class_name('feed-shared-update-v2__description-wrapper')"
   ]
  },
  {
   "cell_type": "code",
   "execution_count": 8,
   "metadata": {},
   "outputs": [
    {
     "name": "stdout",
     "output_type": "stream",
     "text": [
      "Jon Steinberg\n",
      " \n",
      "        \n",
      "        \n",
      "        \n",
      "        \n",
      "       • Following\n",
      "This is the world's smallest helicopter. Learn more: https://chdr.tv/16b66\n",
      "LinkedIn Learning\n",
      "Are you interested in a 2020 PhD Research Fellowship working on a Machine Learning team @Twitter? We are looking for you! \n",
      "hashtag\n",
      "#PhDFellowship\n",
      "Eduwaive Foundation\n",
      "Jobs For Freshers !! Part-3\n",
      "\n",
      "Date: 2nd Sept\n",
      "Shaunak Mhatre\n",
      " • 3rd+\n",
      "To all the \n",
      "hashtag\n",
      "#drone enthusiasts , here are a couple of challenging questions ! While developing a system to  deliver crop intelligence to our hard working farmers , these are the challenges that have come up!\n",
      "1. How do I implement 'No Permission no Takeoff ' ? \n",
      "2. How do I register my drone on digital sky platform?\n",
      "…see more\n",
      "Jon Steinberg\n",
      " \n",
      "        \n",
      "        \n",
      "        \n",
      "        \n",
      "       • Following\n",
      "Me: Boss, can I work from home tomorrow?\n",
      "\n",
      "Boss: Your office is like your home only. So yes you can come to the office tomorrow\n",
      "\n",
      "Me: *puts my leg on top of the table, strips to boxers and starts yawning*\n",
      "\n",
      "Boss: Well played. You can work from YOUR home tomorrow\n",
      "…see more\n"
     ]
    }
   ],
   "source": [
    "for feed in feedsContent[:-2]:\n",
    "    print(feedAuthor[feedsContent.index(feed)].text)\n",
    "    print(feed.text)"
   ]
  }
 ],
 "metadata": {
  "kernelspec": {
   "display_name": "Python 3",
   "language": "python",
   "name": "python3"
  },
  "language_info": {
   "codemirror_mode": {
    "name": "ipython",
    "version": 3
   },
   "file_extension": ".py",
   "mimetype": "text/x-python",
   "name": "python",
   "nbconvert_exporter": "python",
   "pygments_lexer": "ipython3",
   "version": "3.7.3"
  }
 },
 "nbformat": 4,
 "nbformat_minor": 2
}
