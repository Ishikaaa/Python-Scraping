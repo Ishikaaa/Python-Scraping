{
 "cells": [
  {
   "cell_type": "code",
   "execution_count": 2,
   "metadata": {},
   "outputs": [],
   "source": [
    "from selenium import webdriver \n",
    "from selenium.webdriver.common.keys import Keys\n",
    "import urllib.request as urllib\n",
    "import time "
   ]
  },
  {
   "cell_type": "code",
   "execution_count": 3,
   "metadata": {},
   "outputs": [],
   "source": [
    "posts=[]\n",
    "postsUrls=[]"
   ]
  },
  {
   "cell_type": "code",
   "execution_count": 7,
   "metadata": {},
   "outputs": [
    {
     "name": "stdout",
     "output_type": "stream",
     "text": [
      "done\n"
     ]
    }
   ],
   "source": [
    "driver=webdriver.Chrome()\n",
    "driver.get(\"https://www.instagram.com/zuck/?hl=en\")\n",
    "print(\"done\")"
   ]
  },
  {
   "cell_type": "code",
   "execution_count": 8,
   "metadata": {},
   "outputs": [
    {
     "name": "stdout",
     "output_type": "stream",
     "text": [
      "[<selenium.webdriver.remote.webelement.WebElement (session=\"b371661ef3cf463de0cad4c42f096905\", element=\"efb6824b-e390-4b36-907a-e39201a015e9\")>, <selenium.webdriver.remote.webelement.WebElement (session=\"b371661ef3cf463de0cad4c42f096905\", element=\"0912ee7c-7464-4d30-b46d-86ea538bbce9\")>, <selenium.webdriver.remote.webelement.WebElement (session=\"b371661ef3cf463de0cad4c42f096905\", element=\"00fade27-7023-40c0-a794-736336e93001\")>, <selenium.webdriver.remote.webelement.WebElement (session=\"b371661ef3cf463de0cad4c42f096905\", element=\"ec92532a-83e0-4e8f-b1a8-2a9938c74d23\")>, <selenium.webdriver.remote.webelement.WebElement (session=\"b371661ef3cf463de0cad4c42f096905\", element=\"5728ca03-53ad-4c2c-b564-9827c4d0af5c\")>, <selenium.webdriver.remote.webelement.WebElement (session=\"b371661ef3cf463de0cad4c42f096905\", element=\"424925c9-977e-45f1-8b4e-830e548b1c05\")>, <selenium.webdriver.remote.webelement.WebElement (session=\"b371661ef3cf463de0cad4c42f096905\", element=\"5044a6f4-ea59-4758-a2f4-5393bf3b5775\")>, <selenium.webdriver.remote.webelement.WebElement (session=\"b371661ef3cf463de0cad4c42f096905\", element=\"b8ae7fef-7fa1-4b65-a418-5af69df3b137\")>, <selenium.webdriver.remote.webelement.WebElement (session=\"b371661ef3cf463de0cad4c42f096905\", element=\"1a7a4c47-b7d9-45ed-be2a-95d99284f4f5\")>, <selenium.webdriver.remote.webelement.WebElement (session=\"b371661ef3cf463de0cad4c42f096905\", element=\"e81081ba-5118-4737-b327-5c52f48e6e1a\")>, <selenium.webdriver.remote.webelement.WebElement (session=\"b371661ef3cf463de0cad4c42f096905\", element=\"b050e6e7-9bb6-470b-a6b4-9169de2b1510\")>, <selenium.webdriver.remote.webelement.WebElement (session=\"b371661ef3cf463de0cad4c42f096905\", element=\"9b1d470d-395e-4ae7-ad12-7e8c655aaba0\")>]\n"
     ]
    }
   ],
   "source": [
    "path = driver.find_elements_by_xpath(\"//*[@class='v1Nh3 kIKUG  _bz0w']//a\")\n",
    "print(path)"
   ]
  },
  {
   "cell_type": "code",
   "execution_count": 6,
   "metadata": {},
   "outputs": [
    {
     "name": "stdout",
     "output_type": "stream",
     "text": [
      "\n",
      "Retriving posts url .......\n"
     ]
    },
    {
     "ename": "NameError",
     "evalue": "name 'last_height' is not defined",
     "output_type": "error",
     "traceback": [
      "\u001b[1;31m---------------------------------------------------------------------------\u001b[0m",
      "\u001b[1;31mNameError\u001b[0m                                 Traceback (most recent call last)",
      "\u001b[1;32m<ipython-input-6-3ac27e774d32>\u001b[0m in \u001b[0;36m<module>\u001b[1;34m\u001b[0m\n\u001b[0;32m     12\u001b[0m     \u001b[0mnew_height\u001b[0m \u001b[1;33m=\u001b[0m \u001b[0mdriver\u001b[0m\u001b[1;33m.\u001b[0m\u001b[0mexecute_script\u001b[0m\u001b[1;33m(\u001b[0m\u001b[1;34m\"document.body.scrollHeight\"\u001b[0m\u001b[1;33m)\u001b[0m\u001b[1;33m\u001b[0m\u001b[1;33m\u001b[0m\u001b[0m\n\u001b[0;32m     13\u001b[0m     \u001b[1;31m#print(\"donw\")\u001b[0m\u001b[1;33m\u001b[0m\u001b[1;33m\u001b[0m\u001b[1;33m\u001b[0m\u001b[0m\n\u001b[1;32m---> 14\u001b[1;33m     \u001b[1;32mif\u001b[0m \u001b[0mnew_height\u001b[0m \u001b[1;33m==\u001b[0m \u001b[0mlast_height\u001b[0m\u001b[1;33m:\u001b[0m\u001b[1;33m\u001b[0m\u001b[1;33m\u001b[0m\u001b[0m\n\u001b[0m\u001b[0;32m     15\u001b[0m         \u001b[0mpostpost\u001b[0m\u001b[1;33m(\u001b[0m\u001b[1;33m)\u001b[0m\u001b[1;33m\u001b[0m\u001b[1;33m\u001b[0m\u001b[0m\n\u001b[0;32m     16\u001b[0m         \u001b[1;32mbreak\u001b[0m\u001b[1;33m\u001b[0m\u001b[1;33m\u001b[0m\u001b[0m\n",
      "\u001b[1;31mNameError\u001b[0m: name 'last_height' is not defined"
     ]
    }
   ],
   "source": [
    "# def postpost():\n",
    "#     for p in path:\n",
    "#         url = p.get_attribute(\"href\")\n",
    "#         # print(url)\n",
    "#         if url not in postsUrls:\n",
    "#             postsUrls.append(url)\n",
    "# while True:\n",
    "#     print(\"\\nRetriving posts url .......\")  \n",
    "#     postpost()\n",
    "#     driver.execute_script(\"window.scrollTo(0, document.body.scrollHeight);\")  # Scroll down to bottom \n",
    "#     time.sleep(3)\n",
    "#     new_height = driver.execute_script(\"document.body.scrollHeight\")\n",
    "#     #print(\"donw\")            \n",
    "#     if new_height == last_height:\n",
    "#         postpost()\n",
    "#         break\n",
    "#     last_height = new_height    \n",
    "# print(\"Total posts found = \" + str(len(postsUrls)))"
   ]
  },
  {
   "cell_type": "code",
   "execution_count": 9,
   "metadata": {},
   "outputs": [
    {
     "name": "stdout",
     "output_type": "stream",
     "text": [
      "Total posts found = 12\n"
     ]
    }
   ],
   "source": [
    "# def postpost():\n",
    "    \n",
    "# last_height = driver.execute_script(\"document.body.scrollHeight\")            \n",
    "\n",
    "# time.sleep(3)\n",
    "# driver.execute_script('window.scrollTo(1, 500);')\n",
    "# time.sleep(3)\n",
    "# driver.execute_script('window.scrollTo(1, 500);')\n",
    "# time.sleep(3)\n",
    "for p in path:\n",
    "    url = p.get_attribute(\"href\")\n",
    "    if url not in postsUrls:\n",
    "        postsUrls.append(url)\n",
    "print(\"Total posts found = \" + str(len(postsUrls)))"
   ]
  },
  {
   "cell_type": "code",
   "execution_count": 13,
   "metadata": {},
   "outputs": [
    {
     "name": "stdout",
     "output_type": "stream",
     "text": [
      "['https://www.instagram.com/p/B1UGhU0ADO2/', 'https://www.instagram.com/p/Bzo6o2kA1Wu/', 'https://www.instagram.com/p/BzgviNFgKSC/', 'https://www.instagram.com/p/BxjtukngbIH/', 'https://www.instagram.com/p/BxX5JWwgXRq/', 'https://www.instagram.com/p/BxSVnzehr-O/', 'https://www.instagram.com/p/Bw46EY3hoaP/', 'https://www.instagram.com/p/BwxCPidhe0V/', 'https://www.instagram.com/p/BvuwOkdDwcT/', 'https://www.instagram.com/p/Bse7LQqBeOv/', 'https://www.instagram.com/p/BsGdDCWgeAS/', 'https://www.instagram.com/p/BqgJIKVgnTv/']\n"
     ]
    }
   ],
   "source": [
    "print(postsUrls)"
   ]
  },
  {
   "cell_type": "code",
   "execution_count": 17,
   "metadata": {},
   "outputs": [],
   "source": [
    "for url in postsUrls:\n",
    "    driver.execute_script(\"window.open('\"+url+\"', '_self')\")\n",
    "    driver.implicitly_wait(2)    \n",
    "    imagesXpath = driver.find_elements_by_xpath('//*[@id=\"react-root\"]/section/main/div/div/article/div[2]/div[1]/ul/div/li/div/div/div[2]/span')\n",
    "    for x in imagesXpath:\n",
    "        img = x.text\n",
    "        # in @srcset there's about 3-4 resolution images url seperated by ,\n",
    "#         img = img.split(\",\")\n",
    "#         img = img[-1][:-6]\n",
    "#         print(img)\n",
    "#         if img not in images and img is not None :\n",
    "#         # last one being highest res image -4 to escpae resoluton X*X in url\n",
    "#             images.append(img)\n",
    "        posts.append(img)"
   ]
  },
  {
   "cell_type": "code",
   "execution_count": 18,
   "metadata": {},
   "outputs": [
    {
     "name": "stdout",
     "output_type": "stream",
     "text": [
      "['Trying a new sport in Kauai with one of the best @kai_lenny.', 'Tahoe sunset', 'Happy 4th and happy summer! 🇺🇸🎉🇺🇸', 'Celebrating 7 years of happy marriage at the temple for the goddess of wisdom.', \"Happy Mother's Day!\", 'I just met with President Emmanuel Macron in Paris to discuss new rules and regulations for the internet. We both believe governments should take a more active role around important issues like balancing expression and safety, privacy and data portability, and preventing election interference -- reflecting their own traditions of free speech.\\n\\nLast year we invited French government officials to look at how we manage harmful content on our platforms. Our systems now proactively identify 65% of the hate speech we take down before it’s even reported -- up from 24% a year ago. But there are nuanced decisions to make here, such as how we should handle content that isn’t illegal but might cause harm. This is an area where I believe companies should not make these decisions by themselves and there should be a public process with democratically elected governments.\\n\\nToday the French government shared their recommendations for a new model that sets guidelines around what’s considered harmful. This would create a more consistent approach across the industry and ensure companies are held accountable for enforcing our standards against this content. While I am sure we won’t agree on everything, it’s important to get this right -- people use lots of different online services and the internet should be one platform that everyone can access on the same terms. This is our first official collaboration on regulation with a government, and we’re hopeful this process could work for other countries.\\n\\nThank you to President Macron for hosting us and for your leadership on these important issues.', \"Today at F8, I talked about how we're starting to build out a privacy-focused social platform.\\n\\nFor the last 15 years, we've built Facebook and Instagram into digital equivalents of the town square, where you can interact with lots of people at once. Now we're focused on building the digital equivalent of the living room, where you can interact in all the ways you'd want privately -- from messaging and stories to secure payments and more.\\n\\nTo bring this vision to life, we're building Messenger and WhatsApp into platforms for all kinds of private interactions and working on making end-to-end encryption the default for both. We've redesigned Facebook to make communities as central as friends. We've added new ways to buy things securely on Instagram. Augmented and virtual reality also create more personal and intimate experiences -- so we’re bringing WhatsApp to Portal, adding end-to-end encryption for all calls, and launching Portal internationally. And I'm very excited that this year we're shipping Oculus Rift S and Oculus Quest, the headset that gives you full freedom of movement with no cables.\\n\\nAs we build more of our services around this privacy vision, we're also changing how we run our company. We're committed to consulting with experts on the major tradeoffs and social issues to find the best path forward, taking a more active role in making sure developers use our tools in good ways, and building out the technical infrastructure to support this vision. This is going to take time and we don't have all the answers yet, but we're focused on getting this right and doing it openly. I’m looking forward to sharing more with you as we continue on this journey to build a private social platform.\", 'Being a mom is hard, and since we\\'ve had kids Priscilla has had a hard time sleeping through the night. She\\'ll wake up and check the time on her phone to see if the kids might wake up soon, but then knowing the time stresses her out and she can\\'t fall back asleep. So I worked on building her what I call the \"sleep box\". It sits on her nightstand, and between the hours of 6-7am it emits a very faint light -- visible enough that if she sees it she\\'ll know it\\'s an okay time for one of us to get the kids, but faint enough that the light won\\'t wake her up if she\\'s still sleeping. And since it doesn\\'t show the time, if she wakes up in the middle of the night, she knows to just go back to sleep without having to worry about what time it is. So far this has worked better than I expected and she can now sleep through the night.\\nAs an engineer, building a device to help my partner sleep better is one of the best ways I can think of to express my love and gratitude. A bunch of my friends have told me they\\'d want something like this, so I\\'m putting this out there in case another entrepreneur wants to run with this and build sleep boxes for more people!', 'Schnitzel for days.', 'Happy birthday Beast, you wonderful crazy dog.', \"Here's to a great 2019!\", \"I'm thankful for time with family, and that all the girls went along with my plan for matching pajamas.\", 'Trying a new sport in Kauai with one of the best @kai_lenny.', 'Tahoe sunset', 'Happy 4th and happy summer! 🇺🇸🎉🇺🇸', 'Celebrating 7 years of happy marriage at the temple for the goddess of wisdom.', \"Happy Mother's Day!\", 'I just met with President Emmanuel Macron in Paris to discuss new rules and regulations for the internet. We both believe governments should take a more active role around important issues like balancing expression and safety, privacy and data portability, and preventing election interference -- reflecting their own traditions of free speech.\\n\\nLast year we invited French government officials to look at how we manage harmful content on our platforms. Our systems now proactively identify 65% of the hate speech we take down before it’s even reported -- up from 24% a year ago. But there are nuanced decisions to make here, such as how we should handle content that isn’t illegal but might cause harm. This is an area where I believe companies should not make these decisions by themselves and there should be a public process with democratically elected governments.\\n\\nToday the French government shared their recommendations for a new model that sets guidelines around what’s considered harmful. This would create a more consistent approach across the industry and ensure companies are held accountable for enforcing our standards against this content. While I am sure we won’t agree on everything, it’s important to get this right -- people use lots of different online services and the internet should be one platform that everyone can access on the same terms. This is our first official collaboration on regulation with a government, and we’re hopeful this process could work for other countries.\\n\\nThank you to President Macron for hosting us and for your leadership on these important issues.', \"Today at F8, I talked about how we're starting to build out a privacy-focused social platform.\\n\\nFor the last 15 years, we've built Facebook and Instagram into digital equivalents of the town square, where you can interact with lots of people at once. Now we're focused on building the digital equivalent of the living room, where you can interact in all the ways you'd want privately -- from messaging and stories to secure payments and more.\\n\\nTo bring this vision to life, we're building Messenger and WhatsApp into platforms for all kinds of private interactions and working on making end-to-end encryption the default for both. We've redesigned Facebook to make communities as central as friends. We've added new ways to buy things securely on Instagram. Augmented and virtual reality also create more personal and intimate experiences -- so we’re bringing WhatsApp to Portal, adding end-to-end encryption for all calls, and launching Portal internationally. And I'm very excited that this year we're shipping Oculus Rift S and Oculus Quest, the headset that gives you full freedom of movement with no cables.\\n\\nAs we build more of our services around this privacy vision, we're also changing how we run our company. We're committed to consulting with experts on the major tradeoffs and social issues to find the best path forward, taking a more active role in making sure developers use our tools in good ways, and building out the technical infrastructure to support this vision. This is going to take time and we don't have all the answers yet, but we're focused on getting this right and doing it openly. I’m looking forward to sharing more with you as we continue on this journey to build a private social platform.\", 'Being a mom is hard, and since we\\'ve had kids Priscilla has had a hard time sleeping through the night. She\\'ll wake up and check the time on her phone to see if the kids might wake up soon, but then knowing the time stresses her out and she can\\'t fall back asleep. So I worked on building her what I call the \"sleep box\". It sits on her nightstand, and between the hours of 6-7am it emits a very faint light -- visible enough that if she sees it she\\'ll know it\\'s an okay time for one of us to get the kids, but faint enough that the light won\\'t wake her up if she\\'s still sleeping. And since it doesn\\'t show the time, if she wakes up in the middle of the night, she knows to just go back to sleep without having to worry about what time it is. So far this has worked better than I expected and she can now sleep through the night.\\nAs an engineer, building a device to help my partner sleep better is one of the best ways I can think of to express my love and gratitude. A bunch of my friends have told me they\\'d want something like this, so I\\'m putting this out there in case another entrepreneur wants to run with this and build sleep boxes for more people!', 'Schnitzel for days.', 'Happy birthday Beast, you wonderful crazy dog.', \"Here's to a great 2019!\", \"I'm thankful for time with family, and that all the girls went along with my plan for matching pajamas.\"]\n"
     ]
    }
   ],
   "source": [
    "print(posts)"
   ]
  }
 ],
 "metadata": {
  "kernelspec": {
   "display_name": "Python 3",
   "language": "python",
   "name": "python3"
  },
  "language_info": {
   "codemirror_mode": {
    "name": "ipython",
    "version": 3
   },
   "file_extension": ".py",
   "mimetype": "text/x-python",
   "name": "python",
   "nbconvert_exporter": "python",
   "pygments_lexer": "ipython3",
   "version": "3.7.3"
  }
 },
 "nbformat": 4,
 "nbformat_minor": 2
}
